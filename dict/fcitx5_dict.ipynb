{
 "cells": [
  {
   "attachments": {},
   "cell_type": "markdown",
   "metadata": {},
   "source": [
    "### 替代 fcitx5 系统基础词库\n",
    "\n",
    "fcitx5 的系统词库位置为 `/usr/share/libime` , `sc.dict` 为通用拼音词库, 替代此文件即可.\n"
   ]
  },
  {
   "attachments": {},
   "cell_type": "markdown",
   "metadata": {},
   "source": [
    "使用 https://github.com/iDvel/rime-ice\n"
   ]
  },
  {
   "cell_type": "code",
   "execution_count": 1,
   "metadata": {},
   "outputs": [],
   "source": [
    "import requests\n",
    "\n",
    "dicts = {\n",
    "    \"single\": \"https://raw.githubusercontent.com/iDvel/rime-ice/main/cn_dicts/8105.dict.yaml\",\n",
    "    \"word\": \"https://raw.githubusercontent.com/iDvel/rime-ice/main/cn_dicts/base.dict.yaml\"\n",
    "}\n",
    "\n",
    "for k, v in dicts.items():\n",
    "    with open(k + '-dict.yaml', 'wb') as f:\n",
    "        f.write(requests.get(v).content)\n",
    "        f.close"
   ]
  },
  {
   "cell_type": "code",
   "execution_count": 4,
   "metadata": {},
   "outputs": [],
   "source": [
    "import yaml\n",
    "\n",
    "# for k, v in dicts.items():\n",
    "#     with open(k + '-dict.yaml', 'rb') as f:\n",
    "#         dict = yaml.safe_load_all(f)\n",
    "#         f.close\n",
    "\n",
    "with open('single-dict.yaml', 'rb') as f:\n",
    "    dict = yaml.safe_load_all(f)\n",
    "    f.close"
   ]
  },
  {
   "cell_type": "code",
   "execution_count": 8,
   "metadata": {},
   "outputs": [
    {
     "name": "stdout",
     "output_type": "stream",
     "text": [
      "<generator object load_all at 0x7fd9704b2180>\n"
     ]
    }
   ],
   "source": [
    "print(dict)"
   ]
  },
  {
   "cell_type": "code",
   "execution_count": null,
   "metadata": {},
   "outputs": [],
   "source": []
  }
 ],
 "metadata": {
  "kernelspec": {
   "display_name": "Python 3",
   "language": "python",
   "name": "python3"
  },
  "language_info": {
   "codemirror_mode": {
    "name": "ipython",
    "version": 3
   },
   "file_extension": ".py",
   "mimetype": "text/x-python",
   "name": "python",
   "nbconvert_exporter": "python",
   "pygments_lexer": "ipython3",
   "version": "3.11.3"
  },
  "orig_nbformat": 4
 },
 "nbformat": 4,
 "nbformat_minor": 2
}
